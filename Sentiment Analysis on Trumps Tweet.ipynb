{
 "cells": [
  {
   "cell_type": "code",
   "execution_count": 1,
   "metadata": {
    "collapsed": true
   },
   "outputs": [],
   "source": [
    "# General:\n",
    "import tweepy           # To consume Twitter's API\n",
    "import pandas as pd     # To handle data\n",
    "import numpy as np      # For number computing\n",
    "\n",
    "# For plotting and visualization:\n",
    "from IPython.display import display\n",
    "import matplotlib.pyplot as plt\n",
    "import seaborn as sns\n",
    "%matplotlib inline"
   ]
  },
  {
   "cell_type": "code",
   "execution_count": 3,
   "metadata": {},
   "outputs": [],
   "source": [
    "# Twitter App access keys for @user\n",
    "#from credentials import *    # This will allow us to use the keys as variables\n",
    "\n",
    "####input your credentials here\n",
    "consumer_key = 'YUVfHLTJcOtjBL792hGLEDca7'\n",
    "consumer_secret = 'bBFz2wrtwmuGEF6HTuybsAelnLeojyOUCnn9MU5LfRDc3DnsPO'\n",
    "access_token = '1018280534080827392-h7CltoqTHMCI5789pLLh1tgnEdLViI'\n",
    "access_token_secret = 'mbm93iG02ZvR1tajYtwaOgLP87GtsEag0DaEUeN93NOgV'\n",
    "\n",
    "#auth = tweepy.OAuthHandler(consumer_key, consumer_secret)\n",
    "#auth.set_access_token(access_token, access_token_secret)\n",
    "#api = tweepy.API(auth,wait_on_rate_limit=True)\n",
    "\n",
    "# API's setup:\n",
    "def twitter_setup():\n",
    "    \"\"\"\n",
    "    Utility function to setup the Twitter's API\n",
    "    with our access keys provided.\n",
    "    \"\"\"\n",
    "    # Authentication and access using keys:\n",
    "    auth = tweepy.OAuthHandler(consumer_key, consumer_secret)\n",
    "    auth.set_access_token(access_token, access_token_secret)\n",
    "\n",
    "    # Return API with authentication:\n",
    "    api = tweepy.API(auth)\n",
    "    return api"
   ]
  },
  {
   "cell_type": "code",
   "execution_count": 4,
   "metadata": {},
   "outputs": [
    {
     "name": "stdout",
     "output_type": "stream",
     "text": [
      "Number of tweets extracted: 200.\n",
      "\n",
      "5 recent tweets:\n",
      "\n",
      "These Russian individuals did their work during the Obama years. Why didn’t Obama do something about it?  Because h… https://t.co/3DnzJPptZD\n",
      "\n",
      "Our prayers are with those affected by the flooding in Japan. We commend the rescue efforts and offer condolences t… https://t.co/K5Mz1lxkDZ\n",
      "\n",
      "....Remember, it was Little Jeff Z and his people, who are told exactly what to say, who said I could not win the e… https://t.co/hRmoOWINCB\n",
      "\n",
      "So funny! I just checked out Fake News CNN, for the first time in a long time (they are dying in the ratings), to s… https://t.co/x98T67WsJJ\n",
      "\n",
      "The stories you heard about the 12 Russians yesterday took place during the Obama Administration, not the Trump Adm… https://t.co/PAZnAMIP0T\n",
      "\n"
     ]
    }
   ],
   "source": [
    "# We create an extractor object:\n",
    "extractor = twitter_setup()\n",
    "\n",
    "# We create a tweet list as follows:\n",
    "tweets = extractor.user_timeline(screen_name=\"realDonaldTrump\", count=200)\n",
    "print(\"Number of tweets extracted: {}.\\n\".format(len(tweets)))\n",
    "\n",
    "# We print the most recent 5 tweets:\n",
    "print(\"5 recent tweets:\\n\")\n",
    "for tweet in tweets[:5]:\n",
    "    print(tweet.text)\n",
    "    print()"
   ]
  },
  {
   "cell_type": "code",
   "execution_count": 5,
   "metadata": {},
   "outputs": [
    {
     "data": {
      "text/html": [
       "<div>\n",
       "<style>\n",
       "    .dataframe thead tr:only-child th {\n",
       "        text-align: right;\n",
       "    }\n",
       "\n",
       "    .dataframe thead th {\n",
       "        text-align: left;\n",
       "    }\n",
       "\n",
       "    .dataframe tbody tr th {\n",
       "        vertical-align: top;\n",
       "    }\n",
       "</style>\n",
       "<table border=\"1\" class=\"dataframe\">\n",
       "  <thead>\n",
       "    <tr style=\"text-align: right;\">\n",
       "      <th></th>\n",
       "      <th>Tweets</th>\n",
       "    </tr>\n",
       "  </thead>\n",
       "  <tbody>\n",
       "    <tr>\n",
       "      <th>0</th>\n",
       "      <td>These Russian individuals did their work durin...</td>\n",
       "    </tr>\n",
       "    <tr>\n",
       "      <th>1</th>\n",
       "      <td>Our prayers are with those affected by the flo...</td>\n",
       "    </tr>\n",
       "    <tr>\n",
       "      <th>2</th>\n",
       "      <td>....Remember, it was Little Jeff Z and his peo...</td>\n",
       "    </tr>\n",
       "    <tr>\n",
       "      <th>3</th>\n",
       "      <td>So funny! I just checked out Fake News CNN, fo...</td>\n",
       "    </tr>\n",
       "    <tr>\n",
       "      <th>4</th>\n",
       "      <td>The stories you heard about the 12 Russians ye...</td>\n",
       "    </tr>\n",
       "    <tr>\n",
       "      <th>5</th>\n",
       "      <td>....Where is the DNC Server, and why didn’t th...</td>\n",
       "    </tr>\n",
       "    <tr>\n",
       "      <th>6</th>\n",
       "      <td>The Stock Market hit 25,000 yesterday. Jobs ar...</td>\n",
       "    </tr>\n",
       "    <tr>\n",
       "      <th>7</th>\n",
       "      <td>I have arrived in Scotland and will be at Trum...</td>\n",
       "    </tr>\n",
       "    <tr>\n",
       "      <th>8</th>\n",
       "      <td>This is now changing - for the first time! htt...</td>\n",
       "    </tr>\n",
       "    <tr>\n",
       "      <th>9</th>\n",
       "      <td>RT @realDonaldTrump: ....On top of it all, Ger...</td>\n",
       "    </tr>\n",
       "  </tbody>\n",
       "</table>\n",
       "</div>"
      ],
      "text/plain": [
       "                                              Tweets\n",
       "0  These Russian individuals did their work durin...\n",
       "1  Our prayers are with those affected by the flo...\n",
       "2  ....Remember, it was Little Jeff Z and his peo...\n",
       "3  So funny! I just checked out Fake News CNN, fo...\n",
       "4  The stories you heard about the 12 Russians ye...\n",
       "5  ....Where is the DNC Server, and why didn’t th...\n",
       "6  The Stock Market hit 25,000 yesterday. Jobs ar...\n",
       "7  I have arrived in Scotland and will be at Trum...\n",
       "8  This is now changing - for the first time! htt...\n",
       "9  RT @realDonaldTrump: ....On top of it all, Ger..."
      ]
     },
     "metadata": {},
     "output_type": "display_data"
    }
   ],
   "source": [
    "# We create a pandas dataframe as follows:\n",
    "data = pd.DataFrame(data=[tweet.text for tweet in tweets], columns=['Tweets'])\n",
    "\n",
    "# We display the first 10 elements of the dataframe:\n",
    "display(data.head(10))"
   ]
  },
  {
   "cell_type": "code",
   "execution_count": 6,
   "metadata": {},
   "outputs": [
    {
     "name": "stdout",
     "output_type": "stream",
     "text": [
      "['__class__', '__delattr__', '__dict__', '__dir__', '__doc__', '__eq__', '__format__', '__ge__', '__getattribute__', '__getstate__', '__gt__', '__hash__', '__init__', '__init_subclass__', '__le__', '__lt__', '__module__', '__ne__', '__new__', '__reduce__', '__reduce_ex__', '__repr__', '__setattr__', '__sizeof__', '__str__', '__subclasshook__', '__weakref__', '_api', '_json', 'author', 'contributors', 'coordinates', 'created_at', 'destroy', 'entities', 'favorite', 'favorite_count', 'favorited', 'geo', 'id', 'id_str', 'in_reply_to_screen_name', 'in_reply_to_status_id', 'in_reply_to_status_id_str', 'in_reply_to_user_id', 'in_reply_to_user_id_str', 'is_quote_status', 'lang', 'parse', 'parse_list', 'place', 'retweet', 'retweet_count', 'retweeted', 'retweets', 'source', 'source_url', 'text', 'truncated', 'user']\n"
     ]
    }
   ],
   "source": [
    "# Internal methods of a single tweet object:\n",
    "print(dir(tweets[0]))"
   ]
  },
  {
   "cell_type": "code",
   "execution_count": 7,
   "metadata": {},
   "outputs": [
    {
     "name": "stdout",
     "output_type": "stream",
     "text": [
      "1018197842559725569\n",
      "2018-07-14 18:17:37\n",
      "Twitter for iPhone\n",
      "82008\n",
      "23669\n",
      "None\n",
      "None\n",
      "{'hashtags': [], 'symbols': [], 'user_mentions': [], 'urls': [{'url': 'https://t.co/3DnzJPptZD', 'expanded_url': 'https://twitter.com/i/web/status/1018197842559725569', 'display_url': 'twitter.com/i/web/status/1…', 'indices': [117, 140]}]}\n"
     ]
    }
   ],
   "source": [
    "# We print info from the first tweet:\n",
    "print(tweets[0].id)\n",
    "print(tweets[0].created_at)\n",
    "print(tweets[0].source)\n",
    "print(tweets[0].favorite_count)\n",
    "print(tweets[0].retweet_count)\n",
    "print(tweets[0].geo)\n",
    "print(tweets[0].coordinates)\n",
    "print(tweets[0].entities)"
   ]
  },
  {
   "cell_type": "code",
   "execution_count": 8,
   "metadata": {
    "collapsed": true
   },
   "outputs": [],
   "source": [
    "# We add relevant data:\n",
    "data['len']  = np.array([len(tweet.text) for tweet in tweets])\n",
    "data['ID']   = np.array([tweet.id for tweet in tweets])\n",
    "data['Date'] = np.array([tweet.created_at for tweet in tweets])\n",
    "data['Source'] = np.array([tweet.source for tweet in tweets])\n",
    "data['Likes']  = np.array([tweet.favorite_count for tweet in tweets])\n",
    "data['RTs']    = np.array([tweet.retweet_count for tweet in tweets])"
   ]
  },
  {
   "cell_type": "code",
   "execution_count": 9,
   "metadata": {},
   "outputs": [
    {
     "data": {
      "text/html": [
       "<div>\n",
       "<style>\n",
       "    .dataframe thead tr:only-child th {\n",
       "        text-align: right;\n",
       "    }\n",
       "\n",
       "    .dataframe thead th {\n",
       "        text-align: left;\n",
       "    }\n",
       "\n",
       "    .dataframe tbody tr th {\n",
       "        vertical-align: top;\n",
       "    }\n",
       "</style>\n",
       "<table border=\"1\" class=\"dataframe\">\n",
       "  <thead>\n",
       "    <tr style=\"text-align: right;\">\n",
       "      <th></th>\n",
       "      <th>Tweets</th>\n",
       "      <th>len</th>\n",
       "      <th>ID</th>\n",
       "      <th>Date</th>\n",
       "      <th>Source</th>\n",
       "      <th>Likes</th>\n",
       "      <th>RTs</th>\n",
       "    </tr>\n",
       "  </thead>\n",
       "  <tbody>\n",
       "    <tr>\n",
       "      <th>0</th>\n",
       "      <td>These Russian individuals did their work durin...</td>\n",
       "      <td>140</td>\n",
       "      <td>1018197842559725569</td>\n",
       "      <td>2018-07-14 18:17:37</td>\n",
       "      <td>Twitter for iPhone</td>\n",
       "      <td>82008</td>\n",
       "      <td>23669</td>\n",
       "    </tr>\n",
       "    <tr>\n",
       "      <th>1</th>\n",
       "      <td>Our prayers are with those affected by the flo...</td>\n",
       "      <td>140</td>\n",
       "      <td>1018113905716027393</td>\n",
       "      <td>2018-07-14 12:44:05</td>\n",
       "      <td>Twitter for iPhone</td>\n",
       "      <td>51022</td>\n",
       "      <td>12481</td>\n",
       "    </tr>\n",
       "    <tr>\n",
       "      <th>2</th>\n",
       "      <td>....Remember, it was Little Jeff Z and his peo...</td>\n",
       "      <td>140</td>\n",
       "      <td>1018096402520518656</td>\n",
       "      <td>2018-07-14 11:34:32</td>\n",
       "      <td>Twitter for iPhone</td>\n",
       "      <td>68690</td>\n",
       "      <td>14543</td>\n",
       "    </tr>\n",
       "    <tr>\n",
       "      <th>3</th>\n",
       "      <td>So funny! I just checked out Fake News CNN, fo...</td>\n",
       "      <td>140</td>\n",
       "      <td>1018093807060045824</td>\n",
       "      <td>2018-07-14 11:24:13</td>\n",
       "      <td>Twitter for iPhone</td>\n",
       "      <td>74503</td>\n",
       "      <td>17380</td>\n",
       "    </tr>\n",
       "    <tr>\n",
       "      <th>4</th>\n",
       "      <td>The stories you heard about the 12 Russians ye...</td>\n",
       "      <td>140</td>\n",
       "      <td>1018074723140427776</td>\n",
       "      <td>2018-07-14 10:08:23</td>\n",
       "      <td>Twitter for iPhone</td>\n",
       "      <td>89961</td>\n",
       "      <td>28401</td>\n",
       "    </tr>\n",
       "    <tr>\n",
       "      <th>5</th>\n",
       "      <td>....Where is the DNC Server, and why didn’t th...</td>\n",
       "      <td>86</td>\n",
       "      <td>1018072081676865536</td>\n",
       "      <td>2018-07-14 09:57:53</td>\n",
       "      <td>Twitter for iPhone</td>\n",
       "      <td>76714</td>\n",
       "      <td>21298</td>\n",
       "    </tr>\n",
       "    <tr>\n",
       "      <th>6</th>\n",
       "      <td>The Stock Market hit 25,000 yesterday. Jobs ar...</td>\n",
       "      <td>140</td>\n",
       "      <td>1018069319702458368</td>\n",
       "      <td>2018-07-14 09:46:55</td>\n",
       "      <td>Twitter for iPhone</td>\n",
       "      <td>87356</td>\n",
       "      <td>19360</td>\n",
       "    </tr>\n",
       "    <tr>\n",
       "      <th>7</th>\n",
       "      <td>I have arrived in Scotland and will be at Trum...</td>\n",
       "      <td>139</td>\n",
       "      <td>1018068353305411584</td>\n",
       "      <td>2018-07-14 09:43:04</td>\n",
       "      <td>Twitter for iPhone</td>\n",
       "      <td>70846</td>\n",
       "      <td>13034</td>\n",
       "    </tr>\n",
       "    <tr>\n",
       "      <th>8</th>\n",
       "      <td>This is now changing - for the first time! htt...</td>\n",
       "      <td>66</td>\n",
       "      <td>1018062211909083136</td>\n",
       "      <td>2018-07-14 09:18:40</td>\n",
       "      <td>Twitter for iPhone</td>\n",
       "      <td>46532</td>\n",
       "      <td>10295</td>\n",
       "    </tr>\n",
       "    <tr>\n",
       "      <th>9</th>\n",
       "      <td>RT @realDonaldTrump: ....On top of it all, Ger...</td>\n",
       "      <td>140</td>\n",
       "      <td>1018061893750149120</td>\n",
       "      <td>2018-07-14 09:17:24</td>\n",
       "      <td>Twitter for iPhone</td>\n",
       "      <td>0</td>\n",
       "      <td>19583</td>\n",
       "    </tr>\n",
       "  </tbody>\n",
       "</table>\n",
       "</div>"
      ],
      "text/plain": [
       "                                              Tweets  len  \\\n",
       "0  These Russian individuals did their work durin...  140   \n",
       "1  Our prayers are with those affected by the flo...  140   \n",
       "2  ....Remember, it was Little Jeff Z and his peo...  140   \n",
       "3  So funny! I just checked out Fake News CNN, fo...  140   \n",
       "4  The stories you heard about the 12 Russians ye...  140   \n",
       "5  ....Where is the DNC Server, and why didn’t th...   86   \n",
       "6  The Stock Market hit 25,000 yesterday. Jobs ar...  140   \n",
       "7  I have arrived in Scotland and will be at Trum...  139   \n",
       "8  This is now changing - for the first time! htt...   66   \n",
       "9  RT @realDonaldTrump: ....On top of it all, Ger...  140   \n",
       "\n",
       "                    ID                Date              Source  Likes    RTs  \n",
       "0  1018197842559725569 2018-07-14 18:17:37  Twitter for iPhone  82008  23669  \n",
       "1  1018113905716027393 2018-07-14 12:44:05  Twitter for iPhone  51022  12481  \n",
       "2  1018096402520518656 2018-07-14 11:34:32  Twitter for iPhone  68690  14543  \n",
       "3  1018093807060045824 2018-07-14 11:24:13  Twitter for iPhone  74503  17380  \n",
       "4  1018074723140427776 2018-07-14 10:08:23  Twitter for iPhone  89961  28401  \n",
       "5  1018072081676865536 2018-07-14 09:57:53  Twitter for iPhone  76714  21298  \n",
       "6  1018069319702458368 2018-07-14 09:46:55  Twitter for iPhone  87356  19360  \n",
       "7  1018068353305411584 2018-07-14 09:43:04  Twitter for iPhone  70846  13034  \n",
       "8  1018062211909083136 2018-07-14 09:18:40  Twitter for iPhone  46532  10295  \n",
       "9  1018061893750149120 2018-07-14 09:17:24  Twitter for iPhone      0  19583  "
      ]
     },
     "metadata": {},
     "output_type": "display_data"
    }
   ],
   "source": [
    "# Display of first 10 elements from dataframe:\n",
    "display(data.head(10))"
   ]
  },
  {
   "cell_type": "code",
   "execution_count": 10,
   "metadata": {},
   "outputs": [
    {
     "name": "stdout",
     "output_type": "stream",
     "text": [
      "The lenght's average in tweets: 127.405\n"
     ]
    }
   ],
   "source": [
    "# We extract the mean of lenghts:\n",
    "mean = np.mean(data['len'])\n",
    "\n",
    "print(\"The lenght's average in tweets: {}\".format(mean))"
   ]
  },
  {
   "cell_type": "code",
   "execution_count": 11,
   "metadata": {},
   "outputs": [
    {
     "name": "stdout",
     "output_type": "stream",
     "text": [
      "The tweet with more likes is: \n",
      "They just didn't get it, but they do now! https://t.co/9T50NupkDy\n",
      "Number of likes: 315520\n",
      "65 characters.\n",
      "\n",
      "The tweet with more retweets is: \n",
      "RT @realDonaldTrump: They just didn't get it, but they do now! https://t.co/9T50NupkDy\n",
      "Number of retweets: 108121\n",
      "86 characters.\n",
      "\n"
     ]
    }
   ],
   "source": [
    "# We extract the tweet with more FAVs and more RTs:\n",
    "\n",
    "fav_max = np.max(data['Likes'])\n",
    "rt_max  = np.max(data['RTs'])\n",
    "\n",
    "fav = data[data.Likes == fav_max].index[0]\n",
    "rt  = data[data.RTs == rt_max].index[0]\n",
    "\n",
    "# Max FAVs:\n",
    "print(\"The tweet with more likes is: \\n{}\".format(data['Tweets'][fav]))\n",
    "print(\"Number of likes: {}\".format(fav_max))\n",
    "print(\"{} characters.\\n\".format(data['len'][fav]))\n",
    "\n",
    "# Max RTs:\n",
    "print(\"The tweet with more retweets is: \\n{}\".format(data['Tweets'][rt]))\n",
    "print(\"Number of retweets: {}\".format(rt_max))\n",
    "print(\"{} characters.\\n\".format(data['len'][rt]))"
   ]
  },
  {
   "cell_type": "code",
   "execution_count": 12,
   "metadata": {
    "collapsed": true
   },
   "outputs": [],
   "source": [
    "# We create time series for data:\n",
    "\n",
    "tlen = pd.Series(data=data['len'].values, index=data['Date'])\n",
    "tfav = pd.Series(data=data['Likes'].values, index=data['Date'])\n",
    "tret = pd.Series(data=data['RTs'].values, index=data['Date'])"
   ]
  },
  {
   "cell_type": "code",
   "execution_count": 13,
   "metadata": {},
   "outputs": [
    {
     "data": {
      "image/png": "[encoded data removed]",
      "text/plain": [
       "<matplotlib.figure.Figure at 0x28df2246240>"
      ]
     },
     "metadata": {},
     "output_type": "display_data"
    }
   ],
   "source": [
    "# Lenghts along time:\n",
    "tlen.plot(figsize=(16,4), color='r');"
   ]
  },
  {
   "cell_type": "code",
   "execution_count": 14,
   "metadata": {},
   "outputs": [
    {
     "data": {
      "image/png": "[encoded data removed]",
      "text/plain": [
       "<matplotlib.figure.Figure at 0x28df2246ba8>"
      ]
     },
     "metadata": {},
     "output_type": "display_data"
    }
   ],
   "source": [
    "# Likes vs retweets visualization:\n",
    "tfav.plot(figsize=(16,4), label=\"Likes\", legend=True)\n",
    "tret.plot(figsize=(16,4), label=\"Retweets\", legend=True);"
   ]
  },
  {
   "cell_type": "code",
   "execution_count": 18,
   "metadata": {},
   "outputs": [
    {
     "name": "stdout",
     "output_type": "stream",
     "text": [
      "Creation of content sources:\n",
      "* Twitter for iPhone\n",
      "* Media Studio\n"
     ]
    }
   ],
   "source": [
    "# We obtain all possible sources:\n",
    "sources = []\n",
    "for source in data['Source']:\n",
    "    if source not in sources:\n",
    "        sources.append(source)\n",
    "\n",
    "# We print sources list:\n",
    "print(\"Creation of content sources:\")\n",
    "for source in sources:\n",
    "    print(\"* {}\".format(source))"
   ]
  },
  {
   "cell_type": "code",
   "execution_count": 17,
   "metadata": {},
   "outputs": [
    {
     "name": "stdout",
     "output_type": "stream",
     "text": [
      "{'Twitter for iPhone', 'Media Studio'}\n"
     ]
    }
   ],
   "source": [
    "s = set()\n",
    "s.update(data['Source'])\n",
    "print(s)"
   ]
  },
  {
   "cell_type": "code",
   "execution_count": 19,
   "metadata": {},
   "outputs": [
    {
     "data": {
      "image/png": "[encoded data removed]",
      "text/plain": [
       "<matplotlib.figure.Figure at 0x28df2a22a58>"
      ]
     },
     "metadata": {},
     "output_type": "display_data"
    }
   ],
   "source": [
    "# We create a numpy vector mapped to labels:\n",
    "percent = np.zeros(len(sources))\n",
    "\n",
    "for source in data['Source']:\n",
    "    for index in range(len(sources)):\n",
    "        if source == sources[index]:\n",
    "            percent[index] += 1\n",
    "            pass\n",
    "\n",
    "percent /= 100\n",
    "\n",
    "# Pie chart:\n",
    "pie_chart = pd.Series(percent, index=sources, name='Sources')\n",
    "pie_chart.plot.pie(fontsize=11, autopct='%.2f', figsize=(6, 6));"
   ]
  },
  {
   "cell_type": "code",
   "execution_count": 22,
   "metadata": {},
   "outputs": [],
   "source": [
    "from textblob import TextBlob\n",
    "import re\n",
    "\n",
    "def clean_tweet(tweet):\n",
    "    '''\n",
    "    Utility function to clean the text in a tweet by removing \n",
    "    links and special characters using regex.\n",
    "    '''\n",
    "    return ' '.join(re.sub(\"(@[A-Za-z0-9]+)|([^0-9A-Za-z \\t])|(\\w+:\\/\\/\\S+)\", \" \", tweet).split())\n",
    "\n",
    "def analize_sentiment(tweet):\n",
    "    '''\n",
    "    Utility function to classify the polarity of a tweet\n",
    "    using textblob.\n",
    "    '''\n",
    "    analysis = TextBlob(clean_tweet(tweet))\n",
    "    if analysis.sentiment.polarity > 0:\n",
    "        return 1\n",
    "    elif analysis.sentiment.polarity == 0:\n",
    "        return 0\n",
    "    else:\n",
    "        return -1"
   ]
  },
  {
   "cell_type": "code",
   "execution_count": 23,
   "metadata": {},
   "outputs": [
    {
     "data": {
      "text/html": [
       "<div>\n",
       "<style>\n",
       "    .dataframe thead tr:only-child th {\n",
       "        text-align: right;\n",
       "    }\n",
       "\n",
       "    .dataframe thead th {\n",
       "        text-align: left;\n",
       "    }\n",
       "\n",
       "    .dataframe tbody tr th {\n",
       "        vertical-align: top;\n",
       "    }\n",
       "</style>\n",
       "<table border=\"1\" class=\"dataframe\">\n",
       "  <thead>\n",
       "    <tr style=\"text-align: right;\">\n",
       "      <th></th>\n",
       "      <th>Tweets</th>\n",
       "      <th>len</th>\n",
       "      <th>ID</th>\n",
       "      <th>Date</th>\n",
       "      <th>Source</th>\n",
       "      <th>Likes</th>\n",
       "      <th>RTs</th>\n",
       "      <th>SA</th>\n",
       "    </tr>\n",
       "  </thead>\n",
       "  <tbody>\n",
       "    <tr>\n",
       "      <th>0</th>\n",
       "      <td>These Russian individuals did their work durin...</td>\n",
       "      <td>140</td>\n",
       "      <td>1018197842559725569</td>\n",
       "      <td>2018-07-14 18:17:37</td>\n",
       "      <td>Twitter for iPhone</td>\n",
       "      <td>82008</td>\n",
       "      <td>23669</td>\n",
       "      <td>0</td>\n",
       "    </tr>\n",
       "    <tr>\n",
       "      <th>1</th>\n",
       "      <td>Our prayers are with those affected by the flo...</td>\n",
       "      <td>140</td>\n",
       "      <td>1018113905716027393</td>\n",
       "      <td>2018-07-14 12:44:05</td>\n",
       "      <td>Twitter for iPhone</td>\n",
       "      <td>51022</td>\n",
       "      <td>12481</td>\n",
       "      <td>0</td>\n",
       "    </tr>\n",
       "    <tr>\n",
       "      <th>2</th>\n",
       "      <td>....Remember, it was Little Jeff Z and his peo...</td>\n",
       "      <td>140</td>\n",
       "      <td>1018096402520518656</td>\n",
       "      <td>2018-07-14 11:34:32</td>\n",
       "      <td>Twitter for iPhone</td>\n",
       "      <td>68690</td>\n",
       "      <td>14543</td>\n",
       "      <td>-1</td>\n",
       "    </tr>\n",
       "    <tr>\n",
       "      <th>3</th>\n",
       "      <td>So funny! I just checked out Fake News CNN, fo...</td>\n",
       "      <td>140</td>\n",
       "      <td>1018093807060045824</td>\n",
       "      <td>2018-07-14 11:24:13</td>\n",
       "      <td>Twitter for iPhone</td>\n",
       "      <td>74503</td>\n",
       "      <td>17380</td>\n",
       "      <td>-1</td>\n",
       "    </tr>\n",
       "    <tr>\n",
       "      <th>4</th>\n",
       "      <td>The stories you heard about the 12 Russians ye...</td>\n",
       "      <td>140</td>\n",
       "      <td>1018074723140427776</td>\n",
       "      <td>2018-07-14 10:08:23</td>\n",
       "      <td>Twitter for iPhone</td>\n",
       "      <td>89961</td>\n",
       "      <td>28401</td>\n",
       "      <td>0</td>\n",
       "    </tr>\n",
       "    <tr>\n",
       "      <th>5</th>\n",
       "      <td>....Where is the DNC Server, and why didn’t th...</td>\n",
       "      <td>86</td>\n",
       "      <td>1018072081676865536</td>\n",
       "      <td>2018-07-14 09:57:53</td>\n",
       "      <td>Twitter for iPhone</td>\n",
       "      <td>76714</td>\n",
       "      <td>21298</td>\n",
       "      <td>0</td>\n",
       "    </tr>\n",
       "    <tr>\n",
       "      <th>6</th>\n",
       "      <td>The Stock Market hit 25,000 yesterday. Jobs ar...</td>\n",
       "      <td>140</td>\n",
       "      <td>1018069319702458368</td>\n",
       "      <td>2018-07-14 09:46:55</td>\n",
       "      <td>Twitter for iPhone</td>\n",
       "      <td>87356</td>\n",
       "      <td>19360</td>\n",
       "      <td>-1</td>\n",
       "    </tr>\n",
       "    <tr>\n",
       "      <th>7</th>\n",
       "      <td>I have arrived in Scotland and will be at Trum...</td>\n",
       "      <td>139</td>\n",
       "      <td>1018068353305411584</td>\n",
       "      <td>2018-07-14 09:43:04</td>\n",
       "      <td>Twitter for iPhone</td>\n",
       "      <td>70846</td>\n",
       "      <td>13034</td>\n",
       "      <td>0</td>\n",
       "    </tr>\n",
       "    <tr>\n",
       "      <th>8</th>\n",
       "      <td>This is now changing - for the first time! htt...</td>\n",
       "      <td>66</td>\n",
       "      <td>1018062211909083136</td>\n",
       "      <td>2018-07-14 09:18:40</td>\n",
       "      <td>Twitter for iPhone</td>\n",
       "      <td>46532</td>\n",
       "      <td>10295</td>\n",
       "      <td>1</td>\n",
       "    </tr>\n",
       "    <tr>\n",
       "      <th>9</th>\n",
       "      <td>RT @realDonaldTrump: ....On top of it all, Ger...</td>\n",
       "      <td>140</td>\n",
       "      <td>1018061893750149120</td>\n",
       "      <td>2018-07-14 09:17:24</td>\n",
       "      <td>Twitter for iPhone</td>\n",
       "      <td>0</td>\n",
       "      <td>19583</td>\n",
       "      <td>1</td>\n",
       "    </tr>\n",
       "  </tbody>\n",
       "</table>\n",
       "</div>"
      ],
      "text/plain": [
       "                                              Tweets  len  \\\n",
       "0  These Russian individuals did their work durin...  140   \n",
       "1  Our prayers are with those affected by the flo...  140   \n",
       "2  ....Remember, it was Little Jeff Z and his peo...  140   \n",
       "3  So funny! I just checked out Fake News CNN, fo...  140   \n",
       "4  The stories you heard about the 12 Russians ye...  140   \n",
       "5  ....Where is the DNC Server, and why didn’t th...   86   \n",
       "6  The Stock Market hit 25,000 yesterday. Jobs ar...  140   \n",
       "7  I have arrived in Scotland and will be at Trum...  139   \n",
       "8  This is now changing - for the first time! htt...   66   \n",
       "9  RT @realDonaldTrump: ....On top of it all, Ger...  140   \n",
       "\n",
       "                    ID                Date              Source  Likes    RTs  \\\n",
       "0  1018197842559725569 2018-07-14 18:17:37  Twitter for iPhone  82008  23669   \n",
       "1  1018113905716027393 2018-07-14 12:44:05  Twitter for iPhone  51022  12481   \n",
       "2  1018096402520518656 2018-07-14 11:34:32  Twitter for iPhone  68690  14543   \n",
       "3  1018093807060045824 2018-07-14 11:24:13  Twitter for iPhone  74503  17380   \n",
       "4  1018074723140427776 2018-07-14 10:08:23  Twitter for iPhone  89961  28401   \n",
       "5  1018072081676865536 2018-07-14 09:57:53  Twitter for iPhone  76714  21298   \n",
       "6  1018069319702458368 2018-07-14 09:46:55  Twitter for iPhone  87356  19360   \n",
       "7  1018068353305411584 2018-07-14 09:43:04  Twitter for iPhone  70846  13034   \n",
       "8  1018062211909083136 2018-07-14 09:18:40  Twitter for iPhone  46532  10295   \n",
       "9  1018061893750149120 2018-07-14 09:17:24  Twitter for iPhone      0  19583   \n",
       "\n",
       "   SA  \n",
       "0   0  \n",
       "1   0  \n",
       "2  -1  \n",
       "3  -1  \n",
       "4   0  \n",
       "5   0  \n",
       "6  -1  \n",
       "7   0  \n",
       "8   1  \n",
       "9   1  "
      ]
     },
     "metadata": {},
     "output_type": "display_data"
    }
   ],
   "source": [
    "# We create a column with the result of the analysis:\n",
    "data['SA'] = np.array([ analize_sentiment(tweet) for tweet in data['Tweets'] ])\n",
    "\n",
    "# We display the updated dataframe with the new column:\n",
    "display(data.head(10))"
   ]
  },
  {
   "cell_type": "code",
   "execution_count": 24,
   "metadata": {
    "collapsed": true
   },
   "outputs": [],
   "source": [
    "# We construct lists with classified tweets:\n",
    "\n",
    "pos_tweets = [ tweet for index, tweet in enumerate(data['Tweets']) if data['SA'][index] > 0]\n",
    "neu_tweets = [ tweet for index, tweet in enumerate(data['Tweets']) if data['SA'][index] == 0]\n",
    "neg_tweets = [ tweet for index, tweet in enumerate(data['Tweets']) if data['SA'][index] < 0]"
   ]
  },
  {
   "cell_type": "code",
   "execution_count": 26,
   "metadata": {},
   "outputs": [
    {
     "name": "stdout",
     "output_type": "stream",
     "text": [
      "Percentage of positive tweets: 51.0%\n",
      "Percentage of neutral tweets: 31.0%\n",
      "Percentage de negative tweets: 18.0%\n"
     ]
    }
   ],
   "source": [
    "# We print percentages:\n",
    "\n",
    "print(\"Percentage of positive tweets: {}%\".format(len(pos_tweets)*100/len(data['Tweets'])))\n",
    "print(\"Percentage of neutral tweets: {}%\".format(len(neu_tweets)*100/len(data['Tweets'])))\n",
    "print(\"Percentage de negative tweets: {}%\".format(len(neg_tweets)*100/len(data['Tweets'])))"
   ]
  }
 ],
 "metadata": {
  "kernelspec": {
   "display_name": "Python 3",
   "language": "python",
   "name": "python3"
  },
  "language_info": {
   "codemirror_mode": {
    "name": "ipython",
    "version": 3
   },
   "file_extension": ".py",
   "mimetype": "text/x-python",
   "name": "python",
   "nbconvert_exporter": "python",
   "pygments_lexer": "ipython3",
   "version": "3.6.3"
  }
 },
 "nbformat": 4,
 "nbformat_minor": 2
}
